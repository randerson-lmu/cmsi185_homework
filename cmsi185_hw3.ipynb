{
 "cells": [
  {
   "cell_type": "markdown",
   "metadata": {
    "deletable": false,
    "editable": false,
    "nbgrader": {
     "cell_type": "markdown",
     "checksum": "eb8d7c32e113cb0bcb4eb2be44607ad2",
     "grade": false,
     "grade_id": "heading",
     "locked": true,
     "schema_version": 3,
     "solution": false,
     "task": false
    }
   },
   "source": [
    "# CMSI 185 - Homework 3\n",
    "### DUE:  27 October 2020 by 11:59PM (Pacific Time)\n",
    "\n",
    "- CMSI-185 assignments will be generated and submitted as Jupyter Notebooks (with .ipynb extension)\n",
    "- Read the instructions for each problem and complete the assignment cell(s) (i.e., the cells that contain comments like **YOUR CODE HERE** or **YOUR ANSWER HERE**)\n",
    "- Be sure to delete all the content (comment and exception) from the cell before implementing your solution."
   ]
  },
  {
   "cell_type": "markdown",
   "metadata": {
    "deletable": false,
    "editable": false,
    "nbgrader": {
     "cell_type": "markdown",
     "checksum": "2d7b9cd1edb3ff5de184c0aa7e508bb4",
     "grade": false,
     "grade_id": "p1_instructions",
     "locked": true,
     "schema_version": 3,
     "solution": false,
     "task": false
    }
   },
   "source": [
    "### 1. Astrology Sign Calculator\n",
    "Write a function named `sign` that accepts a user's birthdate (in the form of a string formatted as \"MM/DD\") and returns a string stating the user's zodiac sign. An astrology chart is provided below for your reference. \n",
    "\n",
    "<img src=\"https://i.pinimg.com/originals/9f/4b/e6/9f4be64ff60c5d9d017b2b2776dee6bc.jpg\" style=\"height:200px\">\n",
    "\n",
    "- Do not use any input() statements in your function definition. The input to a function is provided via the parameters provided during the function call.\n",
    "- The returned string should be all lowercase letters.\n",
    "- The function should raise a `ValueError` if the function is called with a month value not between 1 and 12 or a day value not between 1 and 31.\n",
    "- The function should `print()` `\"Invalid birthdate. Try again.\"` if a ValueError exception is raised. Note that the returned value in this case is `None`\n",
    "- Example function calls are provided below for your reference. \n",
    "\n",
    "        >>> sign(\"10/22\")\n",
    "        libra\n",
    "        \n",
    "        >>> sign(\"02/25\")\n",
    "        pisces\n",
    "        \n",
    "        >>> sign(\"01/99\")\n",
    "        Invalid birthdate. Try again.\n",
    "        \n",
    " **BONUS (5 pts)** Include code that checks dates with DD = 31 and raises a `ValueError` exception if invalid (i.e., there is no 31st day in the indicated month). "
   ]
  },
  {
   "cell_type": "code",
   "execution_count": null,
   "metadata": {
    "deletable": false,
    "nbgrader": {
     "cell_type": "code",
     "checksum": "2eb8ec36c456ce990fbe57e7baa7f6a3",
     "grade": false,
     "grade_id": "p1_answer",
     "locked": false,
     "schema_version": 3,
     "solution": true,
     "task": false
    }
   },
   "outputs": [],
   "source": [
    "def sign(bdate):\n",
    "# YOUR CODE HERE\n",
    "raise NotImplementedError()"
   ]
  },
  {
   "cell_type": "code",
   "execution_count": null,
   "metadata": {
    "deletable": false,
    "editable": false,
    "nbgrader": {
     "cell_type": "code",
     "checksum": "5e51041678478987fb8f6deac7ff4aca",
     "grade": true,
     "grade_id": "p1_tests",
     "locked": true,
     "points": 15,
     "schema_version": 3,
     "solution": false,
     "task": false
    }
   },
   "outputs": [],
   "source": [
    "#Note: This is a read-only cell used for grading. Ignore it. "
   ]
  },
  {
   "cell_type": "markdown",
   "metadata": {
    "deletable": false,
    "editable": false,
    "nbgrader": {
     "cell_type": "markdown",
     "checksum": "4a51c0fde34eb579924ac43a2980be35",
     "grade": false,
     "grade_id": "p2_instructions",
     "locked": true,
     "schema_version": 3,
     "solution": false,
     "task": false
    }
   },
   "source": [
    "### 2. Fibonacci Sequence\n",
    "The [Fibbonacci sequence](https://en.wikipedia.org/wiki/Fibonacci_number) follows the rule: \n",
    "\n",
    "$F_{0} = 0$\n",
    "\n",
    "$F_{1} = 1$\n",
    "\n",
    "...\n",
    "\n",
    "$F_{n} = F_{n-1} + F_{n-2}$ \n",
    "\n",
    "So the sequence goes: 0, 1, 1, 2, 3, 5, 8, 13, 21, 34, 55, and so on...\n",
    "Where, for example, $F_{4} = 3$ and $F_{7} = 13$. \n",
    "\n",
    "Write a recursive function named `fib` that accepts integer $n$ as an argument and returns the value of the $n_{th}$ element, $F_{n}$."
   ]
  },
  {
   "cell_type": "code",
   "execution_count": null,
   "metadata": {
    "deletable": false,
    "nbgrader": {
     "cell_type": "code",
     "checksum": "c923c1b25300f761d75fb8967a38fe11",
     "grade": false,
     "grade_id": "p2_answer",
     "locked": false,
     "schema_version": 3,
     "solution": true,
     "task": false
    }
   },
   "outputs": [],
   "source": [
    "# YOUR CODE HERE\n",
    "raise NotImplementedError()"
   ]
  },
  {
   "cell_type": "code",
   "execution_count": null,
   "metadata": {
    "deletable": false,
    "editable": false,
    "nbgrader": {
     "cell_type": "code",
     "checksum": "73368743c24949151a158f7dab257f8b",
     "grade": true,
     "grade_id": "p2_tests",
     "locked": true,
     "points": 10,
     "schema_version": 3,
     "solution": false,
     "task": false
    }
   },
   "outputs": [],
   "source": [
    "#Note: This is a read-only cell used for grading. Ignore it. "
   ]
  }
 ],
 "metadata": {
  "kernelspec": {
   "display_name": "Python 3",
   "language": "python",
   "name": "python3"
  },
  "language_info": {
   "codemirror_mode": {
    "name": "ipython",
    "version": 3
   },
   "file_extension": ".py",
   "mimetype": "text/x-python",
   "name": "python",
   "nbconvert_exporter": "python",
   "pygments_lexer": "ipython3",
   "version": "3.8.3"
  }
 },
 "nbformat": 4,
 "nbformat_minor": 4
}
