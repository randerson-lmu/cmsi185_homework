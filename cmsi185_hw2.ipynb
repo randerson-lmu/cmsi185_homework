{
 "cells": [
  {
   "cell_type": "markdown",
   "metadata": {
    "deletable": false,
    "editable": false,
    "nbgrader": {
     "cell_type": "markdown",
     "checksum": "8d62327c2bde4c6365cd473e29457d74",
     "grade": false,
     "grade_id": "hw2",
     "locked": true,
     "schema_version": 3,
     "solution": false,
     "task": false
    }
   },
   "source": [
    "# CMSI 185 - Homework 2\n",
    "### DUE: 29 September 2020 by 11:59PM (Pacific Time)\n",
    "\n",
    "- CMSI-185 assignments will be generated and submitted as Jupyter Notebooks\n",
    "- Read the instructions for each problem and complete the assignment cell(s) \n",
    "- i.e., the cells that contain comments like **YOUR CODE HERE** or **YOUR ANSWER HERE**"
   ]
  },
  {
   "cell_type": "markdown",
   "metadata": {
    "deletable": false,
    "editable": false,
    "nbgrader": {
     "cell_type": "markdown",
     "checksum": "ac9bd8ccd6aab6d1d090197ca56a4c72",
     "grade": false,
     "grade_id": "p1_instructions",
     "locked": true,
     "schema_version": 3,
     "solution": false,
     "task": false
    }
   },
   "source": [
    "### **Problem 1**\n",
    "We introduced the `datetime` module during our discussion about *statements*, which tell Python to *do* something.\n",
    "\n",
    "We accessed the `datetime` module's functionality with `import datetime`, then used `datetime.datetime.today().strftime(\"%A\")` to retrieve a nicely formatted string containing today's day of the week. \n",
    "\n",
    "In addition to retrieving the current `datetime` using `.today()`, we can construct a datetime object by providing the four-digit year, the month, and the day using `datetime.datetime(yyyy,mm,dd)`, where **yyyy** represents the four-digit year, **mm** represents the month, and **dd** represents the day. \n",
    "\n",
    "For example, I can construct a `datetime` object representing September 29, 2020 with `datetime.datetime(2020, 9, 29)`.\n",
    "\n",
    "Write a script that inputs the user's birthday and outputs a statement reading **\"You were born on a *insert_weekday_here*\"**. \n",
    "\n",
    "For example, given the birthdate January 1, 1999, the script should output **\"You were born on a Friday.\"**\n",
    "\n",
    "Guidelines:\n",
    "- Use `input()` to retrieve the birthdate values from the user. The user will provide the year as a 4-digit number, the month as a 2-digit number, and the day as a 2-digit number. \n",
    "- You may use 3 separate `input()` statements to retrieve birthdate information from the user.\n",
    "- Break your solution up into two pieces: one where you retrieve and process user inputs and a second piece where you produce your output.\n",
    "\n",
    "Reference for Python's `datetime` module: [Link](https://docs.python.org/3/library/datetime.html) "
   ]
  },
  {
   "cell_type": "code",
   "execution_count": null,
   "metadata": {
    "deletable": false,
    "editable": false,
    "nbgrader": {
     "cell_type": "code",
     "checksum": "095b896643542ed67588faef2a99a501",
     "grade": false,
     "grade_id": "p1_setup",
     "locked": true,
     "schema_version": 3,
     "solution": false,
     "task": false
    }
   },
   "outputs": [],
   "source": [
    "#run this cell to import the datetime module\n",
    "import datetime"
   ]
  },
  {
   "cell_type": "markdown",
   "metadata": {
    "deletable": false,
    "editable": false,
    "nbgrader": {
     "cell_type": "markdown",
     "checksum": "54b63499f68c556069c5c4e876955e09",
     "grade": false,
     "grade_id": "p1_part1",
     "locked": true,
     "schema_version": 3,
     "solution": false,
     "task": false
    }
   },
   "source": [
    "Part 1: Gather and process user inputs"
   ]
  },
  {
   "cell_type": "code",
   "execution_count": null,
   "metadata": {
    "deletable": false,
    "nbgrader": {
     "cell_type": "code",
     "checksum": "bcb5addb51e39e67d2d0e42383e149f1",
     "grade": true,
     "grade_id": "p1_answer1",
     "locked": false,
     "points": 5,
     "schema_version": 3,
     "solution": true,
     "task": false
    }
   },
   "outputs": [],
   "source": [
    "# YOUR CODE HERE\n",
    "raise NotImplementedError()"
   ]
  },
  {
   "cell_type": "markdown",
   "metadata": {
    "deletable": false,
    "editable": false,
    "nbgrader": {
     "cell_type": "markdown",
     "checksum": "baae818a61e797bd3357abbf94acd1b7",
     "grade": false,
     "grade_id": "p1_part2",
     "locked": true,
     "schema_version": 3,
     "solution": false,
     "task": false
    }
   },
   "source": [
    "Part 2: Produce output"
   ]
  },
  {
   "cell_type": "code",
   "execution_count": null,
   "metadata": {
    "deletable": false,
    "nbgrader": {
     "cell_type": "code",
     "checksum": "b56ff5caa0413af8d2c1c4e664569be3",
     "grade": true,
     "grade_id": "p1_answer2",
     "locked": false,
     "points": 5,
     "schema_version": 3,
     "solution": true,
     "task": false
    }
   },
   "outputs": [],
   "source": [
    "# YOUR CODE HERE\n",
    "raise NotImplementedError()"
   ]
  },
  {
   "cell_type": "markdown",
   "metadata": {
    "deletable": false,
    "editable": false,
    "nbgrader": {
     "cell_type": "markdown",
     "checksum": "ed39c099f8428e0f4679e835c9f81fa8",
     "grade": false,
     "grade_id": "blank",
     "locked": true,
     "schema_version": 3,
     "solution": false,
     "task": false
    }
   },
   "source": [
    "\n",
    "---\n"
   ]
  },
  {
   "cell_type": "markdown",
   "metadata": {
    "deletable": false,
    "editable": false,
    "nbgrader": {
     "cell_type": "markdown",
     "checksum": "c3e3894f2bf59dc0eda15f38fd530f19",
     "grade": false,
     "grade_id": "p2_instructions",
     "locked": true,
     "schema_version": 3,
     "solution": false,
     "task": false
    }
   },
   "source": [
    "### **Problem 2**\n",
    "A function is a block of code which only gets executed when it is called.\n",
    "Functions can accept objects as inputs, called *parameters*, and perform some processing to ultimately produce the desired result.\n",
    "\n",
    "Write a function named `compute_area` that computes the areas of circles and squares depending on the input parameters. The function should accept two paramenters: the shape and a number representing the radius or height.\n",
    "\n",
    "For example, if the function is called with the input parameters \"circle\" and 5, it should calculate and `return` the value that corresponds to the area of a circle with the radius of 5 (i.e., *78.53981633974483*).\n",
    "If the function is called with input parameters \"SqUaRe\" and 5, it should calculate and `return` the value that corresponds to the area of a square with height/width of 5 (i.e., *25*). \n",
    "\n",
    "If the function is called for a shape other than circle or square, or the user provides a radius/height less than or equal to 0, `return` a value of -1 to indicate an error to the user.\n",
    "\n",
    "Note: The shape parameter will be provided as a string and the radius/height parameter will be provided as a number.\n"
   ]
  },
  {
   "cell_type": "code",
   "execution_count": null,
   "metadata": {
    "deletable": false,
    "editable": false,
    "nbgrader": {
     "cell_type": "code",
     "checksum": "dc97ac180e7939a81aedeb9af44a6055",
     "grade": false,
     "grade_id": "p2_setup",
     "locked": true,
     "schema_version": 3,
     "solution": false,
     "task": false
    }
   },
   "outputs": [],
   "source": [
    "#run this cell to import the value of pi from the math module\n",
    "from math import pi"
   ]
  },
  {
   "cell_type": "code",
   "execution_count": null,
   "metadata": {
    "deletable": false,
    "nbgrader": {
     "cell_type": "code",
     "checksum": "c923c1b25300f761d75fb8967a38fe11",
     "grade": false,
     "grade_id": "p2_answer",
     "locked": false,
     "schema_version": 3,
     "solution": true,
     "task": false
    }
   },
   "outputs": [],
   "source": [
    "# YOUR CODE HERE\n",
    "raise NotImplementedError()"
   ]
  },
  {
   "cell_type": "code",
   "execution_count": null,
   "metadata": {
    "deletable": false,
    "editable": false,
    "nbgrader": {
     "cell_type": "code",
     "checksum": "2bdfb49400ec2275b9e89edca6f3f84b",
     "grade": true,
     "grade_id": "p2_tests",
     "locked": true,
     "points": 15,
     "schema_version": 3,
     "solution": false,
     "task": false
    }
   },
   "outputs": [],
   "source": [
    "#Note: This is a read-only cell. "
   ]
  }
 ],
 "metadata": {
  "kernelspec": {
   "display_name": "Python 3",
   "language": "python",
   "name": "python3"
  },
  "language_info": {
   "codemirror_mode": {
    "name": "ipython",
    "version": 3
   },
   "file_extension": ".py",
   "mimetype": "text/x-python",
   "name": "python",
   "nbconvert_exporter": "python",
   "pygments_lexer": "ipython3",
   "version": "3.8.3"
  }
 },
 "nbformat": 4,
 "nbformat_minor": 4
}
