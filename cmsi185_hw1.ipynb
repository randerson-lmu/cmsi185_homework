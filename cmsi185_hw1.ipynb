{
 "cells": [
  {
   "cell_type": "markdown",
   "metadata": {
    "deletable": false,
    "editable": false,
    "nbgrader": {
     "cell_type": "markdown",
     "checksum": "f885bfe15a9abd231ae11add8f4e9e2b",
     "grade": false,
     "grade_id": "hw1",
     "locked": true,
     "schema_version": 3,
     "solution": false,
     "task": false
    }
   },
   "source": [
    "# CMSI 185 - Homework 1\n",
    "### DUE: 15 September 2020 by 11:59PM (Pacific Time)\n",
    "\n",
    "- CMSI-185 assignments will be generated and submitted as Jupyter Notebooks\n",
    "- Read the instructions for each problem and complete the assignment cell \n",
    "- i.e., the cells that contain comments like **YOUR CODE HERE** or **YOUR ANSWER HERE**"
   ]
  },
  {
   "cell_type": "markdown",
   "metadata": {
    "deletable": false,
    "editable": false,
    "nbgrader": {
     "cell_type": "markdown",
     "checksum": "bb191a53fa00d5594fa13729bf086e6c",
     "grade": false,
     "grade_id": "p1_instructions",
     "locked": true,
     "schema_version": 3,
     "solution": false,
     "task": false
    }
   },
   "source": [
    "#### Problem 1: Explicit Type Conversion\n",
    "Pick an integer and write the statement that converts that integer to a string in the cell below."
   ]
  },
  {
   "cell_type": "code",
   "execution_count": null,
   "metadata": {
    "deletable": false,
    "nbgrader": {
     "cell_type": "code",
     "checksum": "ca7f132a3b5f9b3b8ef42cb29d81d5e6",
     "grade": true,
     "grade_id": "p1_answer",
     "locked": false,
     "points": 1,
     "schema_version": 3,
     "solution": true,
     "task": false
    }
   },
   "outputs": [],
   "source": [
    "# YOUR CODE HERE\n",
    "raise NotImplementedError()"
   ]
  },
  {
   "cell_type": "markdown",
   "metadata": {
    "deletable": false,
    "editable": false,
    "nbgrader": {
     "cell_type": "markdown",
     "checksum": "8a175bd97a5cdc950e3776f013011633",
     "grade": false,
     "grade_id": "blank1",
     "locked": true,
     "schema_version": 3,
     "solution": false,
     "task": false
    }
   },
   "source": [
    "\n",
    "---\n"
   ]
  },
  {
   "cell_type": "markdown",
   "metadata": {
    "deletable": false,
    "editable": false,
    "nbgrader": {
     "cell_type": "markdown",
     "checksum": "c2d2ebd0d7f15f215e927344597ce4b7",
     "grade": false,
     "grade_id": "p2_instructions",
     "locked": true,
     "schema_version": 3,
     "solution": false,
     "task": false
    }
   },
   "source": [
    "#### Problem 2: Variables and Expressions\n",
    "The area of a triangle is given by A = $\\frac{1}{2}$base x height\n",
    "\n",
    "In the cell below, type the statements that calculate the area of a triangle given the base and height measurements.\n",
    "\n",
    "Be sure to first assign meaningful variable names.The solution should be left in terms of variables, not numbers."
   ]
  },
  {
   "cell_type": "code",
   "execution_count": null,
   "metadata": {
    "deletable": false,
    "nbgrader": {
     "cell_type": "code",
     "checksum": "76c5475ef01311e0a10d16ea9f638ae5",
     "grade": true,
     "grade_id": "p2_answer",
     "locked": false,
     "points": 2,
     "schema_version": 3,
     "solution": true,
     "task": false
    }
   },
   "outputs": [],
   "source": [
    "# YOUR CODE HERE\n",
    "raise NotImplementedError()"
   ]
  },
  {
   "cell_type": "markdown",
   "metadata": {
    "deletable": false,
    "editable": false,
    "nbgrader": {
     "cell_type": "markdown",
     "checksum": "ffbb39b6c4786f504c5a1a6ce079a2c4",
     "grade": false,
     "grade_id": "blank2",
     "locked": true,
     "schema_version": 3,
     "solution": false,
     "task": false
    }
   },
   "source": [
    "\n",
    "---\n"
   ]
  },
  {
   "cell_type": "markdown",
   "metadata": {
    "deletable": false,
    "editable": false,
    "nbgrader": {
     "cell_type": "markdown",
     "checksum": "592a145839ebb5c360f6b3321a8b0dd2",
     "grade": false,
     "grade_id": "p3_instructions",
     "locked": true,
     "schema_version": 3,
     "solution": false,
     "task": false
    }
   },
   "source": [
    "#### Problem 3: String Manipulation\n",
    "We can *concatenate* or combine strings using the `+` operator on two or more string objects. \n",
    "\n",
    "For example, `\"my\" + \" \" + \"name\"` yields `\"my name\"`. The result is a single string object.\n",
    "\n",
    "Write the statements that:\n",
    "1. Save your first name to a string variable named `first_name`\n",
    "2. Save your last name to a string variable named `last_name`\n",
    "3. Combine your first and last name (with a space in between) and save in a string variable named `full_name`"
   ]
  },
  {
   "cell_type": "code",
   "execution_count": null,
   "metadata": {
    "deletable": false,
    "nbgrader": {
     "cell_type": "code",
     "checksum": "a629ef3d29626aff74bc39f8a17d0947",
     "grade": true,
     "grade_id": "p3_answer",
     "locked": false,
     "points": 10,
     "schema_version": 3,
     "solution": true,
     "task": false
    }
   },
   "outputs": [],
   "source": [
    "# YOUR CODE HERE\n",
    "raise NotImplementedError()"
   ]
  },
  {
   "cell_type": "code",
   "execution_count": null,
   "metadata": {
    "deletable": false,
    "editable": false,
    "nbgrader": {
     "cell_type": "code",
     "checksum": "408e8929b32eeb58b5ba805aa6a6de69",
     "grade": false,
     "grade_id": "p3_demo",
     "locked": true,
     "schema_version": 3,
     "solution": false,
     "task": false
    }
   },
   "outputs": [],
   "source": [
    "#Run this cell to use the variables created above\n",
    "print(\"My first name is\", first_name,\", but my full name is\", full_name)"
   ]
  },
  {
   "cell_type": "markdown",
   "metadata": {
    "deletable": false,
    "editable": false,
    "nbgrader": {
     "cell_type": "markdown",
     "checksum": "ecd2ee9cbd4261b147ff516bac7644a3",
     "grade": false,
     "grade_id": "blank3",
     "locked": true,
     "schema_version": 3,
     "solution": false,
     "task": false
    }
   },
   "source": [
    "\n",
    "---\n"
   ]
  },
  {
   "cell_type": "markdown",
   "metadata": {
    "deletable": false,
    "editable": false,
    "nbgrader": {
     "cell_type": "markdown",
     "checksum": "737383b6d6f2f4fa0229b1704735697a",
     "grade": false,
     "grade_id": "p4_instructions",
     "locked": true,
     "schema_version": 3,
     "solution": false,
     "task": false
    }
   },
   "source": [
    "#### Problem 4: Variables and Algorithms\n",
    "In the cell below, type the Pyhton statements to:\n",
    "1. Create a new variable named `temp` and assign it a value of integer 24.\n",
    "2. Convert the value `temp` from Celsius to Fahrenheit by multiplying `temp` by 1.8 and adding 32, making `temp` refer to the resulting value."
   ]
  },
  {
   "cell_type": "code",
   "execution_count": null,
   "metadata": {
    "deletable": false,
    "nbgrader": {
     "cell_type": "code",
     "checksum": "da60901fdbe4338dbac7f95cbab638d2",
     "grade": true,
     "grade_id": "p4_answer",
     "locked": false,
     "points": 10,
     "schema_version": 3,
     "solution": true,
     "task": false
    }
   },
   "outputs": [],
   "source": [
    "# YOUR CODE HERE\n",
    "raise NotImplementedError()"
   ]
  },
  {
   "cell_type": "markdown",
   "metadata": {
    "deletable": false,
    "editable": false,
    "nbgrader": {
     "cell_type": "markdown",
     "checksum": "028729d9ca30f7f801cf8dc142af74d2",
     "grade": false,
     "grade_id": "p4_instructions_b",
     "locked": true,
     "schema_version": 3,
     "solution": false,
     "task": false
    }
   },
   "source": [
    "What are the resulting *value* and *type* of `temp`?"
   ]
  },
  {
   "cell_type": "markdown",
   "metadata": {
    "deletable": false,
    "nbgrader": {
     "cell_type": "markdown",
     "checksum": "151c8989f7ae120f44350ff2eead18ef",
     "grade": true,
     "grade_id": "p4_answer_b",
     "locked": false,
     "points": 2,
     "schema_version": 3,
     "solution": true,
     "task": false
    }
   },
   "source": [
    "YOUR ANSWER HERE"
   ]
  }
 ],
 "metadata": {
  "kernelspec": {
   "display_name": "Python 3",
   "language": "python",
   "name": "python3"
  },
  "language_info": {
   "codemirror_mode": {
    "name": "ipython",
    "version": 3
   },
   "file_extension": ".py",
   "mimetype": "text/x-python",
   "name": "python",
   "nbconvert_exporter": "python",
   "pygments_lexer": "ipython3",
   "version": "3.8.3"
  }
 },
 "nbformat": 4,
 "nbformat_minor": 4
}
