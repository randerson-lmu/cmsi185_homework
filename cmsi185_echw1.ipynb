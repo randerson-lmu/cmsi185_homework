{
 "cells": [
  {
   "cell_type": "markdown",
   "metadata": {
    "deletable": false,
    "editable": false,
    "nbgrader": {
     "cell_type": "markdown",
     "checksum": "28f7342044a85d7a4a33ab62a9fcc6a7",
     "grade": false,
     "grade_id": "cell-54a795b2a303e065",
     "locked": true,
     "schema_version": 3,
     "solution": false,
     "task": false
    }
   },
   "source": [
    "# CMSI 185 - Extra Credit Assignment \n",
    "### DUE: 3 November 2020 by 11:59PM (Pacific Time)\n",
    "\n",
    "- CMSI-185 assignments will be generated and submitted as Jupyter Notebooks\n",
    "- Read the instructions for each problem and complete the assignment cell \n",
    "- i.e., the cells that contain comments like **YOUR CODE HERE** or **YOUR ANSWER HERE**\n",
    "- Extra credit notebooks will be worth 10 points, and will be applied to your overall homework score. "
   ]
  },
  {
   "cell_type": "markdown",
   "metadata": {
    "deletable": false,
    "editable": false,
    "nbgrader": {
     "cell_type": "markdown",
     "checksum": "4342f945a41b9fe2272cbf594feaa1fa",
     "grade": false,
     "grade_id": "cell-f1ac97fcdbb42da0",
     "locked": true,
     "schema_version": 3,
     "solution": false,
     "task": false
    }
   },
   "source": [
    "---"
   ]
  },
  {
   "cell_type": "markdown",
   "metadata": {
    "deletable": false,
    "editable": false,
    "nbgrader": {
     "cell_type": "markdown",
     "checksum": "d3ba35853ead7e4cb1a5a595db46563b",
     "grade": false,
     "grade_id": "cell-ebd9cc42faa0c264",
     "locked": true,
     "schema_version": 3,
     "solution": false,
     "task": false
    }
   },
   "source": [
    "![image](https://upload.wikimedia.org/wikipedia/commons/5/5a/Vector-triangle-inequality.svg)\n",
    "\n",
    "### Problem 1 - Conditionals and Branching\n",
    "The Triangle Inequality Theorem states that the sum of two side lengths of a triangle is always greater than the third side. Thus, if any side is greater than or equal to the sum of the other two sides, the three lengths cannot form a triangle.\n",
    "\n",
    "Write a function named `is_triangle` that accepts three integers as arguments that represent the length of three sticks. The function should return `True` if the 3 integers can form a triangle, otherwise the function should return `False`."
   ]
  },
  {
   "cell_type": "code",
   "execution_count": null,
   "metadata": {
    "deletable": false,
    "nbgrader": {
     "cell_type": "code",
     "checksum": "58e75c2ac92918d4c8dd04b30ecc718d",
     "grade": false,
     "grade_id": "cell-b01d9d94ee1d6b96",
     "locked": false,
     "schema_version": 3,
     "solution": true,
     "task": false
    }
   },
   "outputs": [],
   "source": [
    "# YOUR CODE HERE\n",
    "raise NotImplementedError()"
   ]
  },
  {
   "cell_type": "code",
   "execution_count": null,
   "metadata": {
    "deletable": false,
    "editable": false,
    "nbgrader": {
     "cell_type": "code",
     "checksum": "aa62ea2c69a6431d3880566ce8c28cf6",
     "grade": true,
     "grade_id": "cell-da72c4884e75fefc",
     "locked": true,
     "points": 5,
     "schema_version": 3,
     "solution": false,
     "task": false
    }
   },
   "outputs": [],
   "source": [
    "# Test cases\n",
    "assert is_triangle(5,5,5) == True\n",
    "assert is_triangle(10,5,5) == False"
   ]
  },
  {
   "cell_type": "markdown",
   "metadata": {
    "deletable": false,
    "editable": false,
    "nbgrader": {
     "cell_type": "markdown",
     "checksum": "269210d48877a7619451bf8cfa1c4a40",
     "grade": false,
     "grade_id": "cell-3aa8e9b1502b66c6",
     "locked": true,
     "schema_version": 3,
     "solution": false,
     "task": false
    }
   },
   "source": [
    "---"
   ]
  },
  {
   "cell_type": "markdown",
   "metadata": {
    "deletable": false,
    "editable": false,
    "nbgrader": {
     "cell_type": "markdown",
     "checksum": "9b8ecb3f564b0132211a4160b02239b4",
     "grade": false,
     "grade_id": "cell-283c49764aa5596d",
     "locked": true,
     "schema_version": 3,
     "solution": false,
     "task": false
    }
   },
   "source": [
    "![image](https://developers.google.com/edu/python/images/hello.png)\n",
    "\n",
    "### Problem 2 - String Manipulation\n",
    "Write a function named `reverse_string` that takes a string input of alpha characters and returns the reverse of the string, with uppercase and lowercase letters switched. For example, given the input `Practice Makes perfect` the function should return `TCEFREP SEKAm ECITCARp`. \n",
    "\n",
    "Your function does not need to handle numeric characters since the input strings will only consist of letters and whitespace characters.\n",
    "\n",
    "Be sure to `return` the new string value from your function, not just print it. "
   ]
  },
  {
   "cell_type": "code",
   "execution_count": null,
   "metadata": {
    "deletable": false,
    "nbgrader": {
     "cell_type": "code",
     "checksum": "527f5103e8d68e17fcd5a4e5a007f3c6",
     "grade": false,
     "grade_id": "cell-55bd748e3ddfca23",
     "locked": false,
     "schema_version": 3,
     "solution": true,
     "task": false
    }
   },
   "outputs": [],
   "source": [
    "# YOUR CODE HERE\n",
    "raise NotImplementedError()"
   ]
  },
  {
   "cell_type": "code",
   "execution_count": null,
   "metadata": {
    "deletable": false,
    "editable": false,
    "nbgrader": {
     "cell_type": "code",
     "checksum": "65247c10bae8ca82190438aba3e20a23",
     "grade": true,
     "grade_id": "cell-13ed72d01b963108",
     "locked": true,
     "points": 5,
     "schema_version": 3,
     "solution": false,
     "task": false
    }
   },
   "outputs": [],
   "source": [
    "# Test cases\n",
    "assert reverse_string(\"StuDent\") == \"TNEdUTs\"\n",
    "assert reverse_string(\"Practice Makes perfect\") == \"TCEFREP SEKAm ECITCARp\""
   ]
  },
  {
   "cell_type": "markdown",
   "metadata": {
    "deletable": false,
    "editable": false,
    "nbgrader": {
     "cell_type": "markdown",
     "checksum": "c805df5152909eb734ec18a6df2665c7",
     "grade": false,
     "grade_id": "cell-418f015665f89f74",
     "locked": true,
     "schema_version": 3,
     "solution": false,
     "task": false
    }
   },
   "source": [
    "---"
   ]
  }
 ],
 "metadata": {
  "kernelspec": {
   "display_name": "Python 3",
   "language": "python",
   "name": "python3"
  },
  "language_info": {
   "codemirror_mode": {
    "name": "ipython",
    "version": 3
   },
   "file_extension": ".py",
   "mimetype": "text/x-python",
   "name": "python",
   "nbconvert_exporter": "python",
   "pygments_lexer": "ipython3",
   "version": "3.8.3"
  }
 },
 "nbformat": 4,
 "nbformat_minor": 4
}
